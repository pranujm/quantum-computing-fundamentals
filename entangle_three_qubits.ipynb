{
 "cells": [
  {
   "cell_type": "code",
   "execution_count": 1,
   "id": "d638caa5-f67a-4236-af61-7038ed33833c",
   "metadata": {},
   "outputs": [],
   "source": [
    "# import all necessary libraries\n",
    "from qiskit import QuantumCircuit, QuantumRegister, ClassicalRegister\n",
    "from qiskit.visualization import plot_histogram\n",
    "from qiskit_aer import AerSimulator\n",
    "import matplotlib.pyplot as plt\n",
    "%matplotlib inline"
   ]
  },
  {
   "cell_type": "code",
   "execution_count": 2,
   "id": "e971d4af-b4ee-4eac-b741-d6073f9d3f34",
   "metadata": {},
   "outputs": [
    {
     "name": "stdout",
     "output_type": "stream",
     "text": [
      "GHZ State Creation Circuit:\n",
      "Starting from |000⟩ state\n",
      "Step 1: H(0) creates superposition (|0⟩ + |1⟩)/√2\n",
      "Step 2: CNOT(0,1) creates Bell state (|00⟩ + |11⟩)/√2\n",
      "Step 3: CNOT(0,2) creates GHZ state (|000⟩ + |111⟩)/√2\n",
      "Final GHZ state: equal superposition of |000⟩ and |111⟩\n",
      "\n",
      "Circuit diagram:\n",
      "     ┌───┐          \n",
      "q_0: ┤ H ├──■────■──\n",
      "     └───┘┌─┴─┐  │  \n",
      "q_1: ─────┤ X ├──┼──\n",
      "          └───┘┌─┴─┐\n",
      "q_2: ──────────┤ X ├\n",
      "               └───┘\n",
      "c: 3/═══════════════\n",
      "                    \n"
     ]
    }
   ],
   "source": [
    "# Create quantum circuit with 3 qubits and 3 classical bits\n",
    "circuit = QuantumCircuit(3, 3)\n",
    "\n",
    "# Create GHZ state - maximally entangled 3-qubit state\n",
    "# Start with creating Bell state between qubits 0 and 1\n",
    "circuit.h(0)      # Put qubit 0 in superposition: (|0⟩ + |1⟩)/√2\n",
    "circuit.cx(0, 1)  # Entangle qubits 0 and 1: (|00⟩ + |11⟩)/√2\n",
    "\n",
    "# Now entangle the third qubit to complete GHZ state\n",
    "circuit.cx(0, 2)  # Entangle qubit 2 with qubit 0: (|000⟩ + |111⟩)/√2\n",
    "\n",
    "print(\"GHZ State Creation Circuit:\")\n",
    "print(\"Starting from |000⟩ state\")\n",
    "print(\"Step 1: H(0) creates superposition (|0⟩ + |1⟩)/√2\")\n",
    "print(\"Step 2: CNOT(0,1) creates Bell state (|00⟩ + |11⟩)/√2\")\n",
    "print(\"Step 3: CNOT(0,2) creates GHZ state (|000⟩ + |111⟩)/√2\")\n",
    "print(\"Final GHZ state: equal superposition of |000⟩ and |111⟩\")\n",
    "print(\"\\nCircuit diagram:\")\n",
    "print(circuit.draw())"
   ]
  },
  {
   "cell_type": "code",
   "execution_count": 3,
   "id": "7bc5bcf1-3470-45c3-b379-7cf7fb0dfc40",
   "metadata": {},
   "outputs": [],
   "source": [
    "# Measure all qubits\n",
    "circuit.measure_all()"
   ]
  },
  {
   "cell_type": "code",
   "execution_count": 4,
   "id": "ece2a733-ea55-47e5-a9a4-baaac30bdaf8",
   "metadata": {},
   "outputs": [
    {
     "name": "stdout",
     "output_type": "stream",
     "text": [
      "\n",
      "Measurement results:\n",
      "{'000 000': 527, '111 000': 497}\n",
      "\n",
      "In GHZ state, you will only see '000' and '111' outcomes\n",
      "This proves all three qubits are maximally entangled!\n",
      "The GHZ state demonstrates true 3-party quantum entanglement\n",
      "\n",
      "==================================================\n",
      "GHZ State Properties:\n",
      "- All three qubits are maximally entangled\n",
      "- Cannot be written as product of individual qubit states\n",
      "- Measuring any qubit instantly determines the others\n",
      "- Equal probability of measuring |000⟩ or |111⟩\n",
      "- Demonstrates genuine multipartite entanglement\n"
     ]
    },
    {
     "data": {
      "image/png": "[encoded data removed]",
      "text/plain": [
       "<Figure size 640x480 with 1 Axes>"
      ]
     },
     "metadata": {},
     "output_type": "display_data"
    }
   ],
   "source": [
    "# Simulate the circuit\n",
    "simulator = AerSimulator()\n",
    "job = simulator.run(circuit, shots=1024)\n",
    "result = job.result()\n",
    "counts = result.get_counts()\n",
    "plot_histogram(counts)\n",
    "\n",
    "print(\"\\nMeasurement results:\")\n",
    "print(counts)\n",
    "print(\"\\nIn GHZ state, you will only see '000' and '111' outcomes\")\n",
    "print(\"This proves all three qubits are maximally entangled!\")\n",
    "print(\"The GHZ state demonstrates true 3-party quantum entanglement\")\n",
    "\n",
    "print(\"\\n\" + \"=\"*50)\n",
    "print(\"GHZ State Properties:\")\n",
    "print(\"- All three qubits are maximally entangled\")\n",
    "print(\"- Cannot be written as product of individual qubit states\")\n",
    "print(\"- Measuring any qubit instantly determines the others\")\n",
    "print(\"- Equal probability of measuring |000⟩ or |111⟩\")\n",
    "print(\"- Demonstrates genuine multipartite entanglement\")"
   ]
  }
 ],
 "metadata": {
  "kernelspec": {
   "display_name": "Python (Main)",
   "language": "python",
   "name": "python-env"
  },
  "language_info": {
   "codemirror_mode": {
    "name": "ipython",
    "version": 3
   },
   "file_extension": ".py",
   "mimetype": "text/x-python",
   "name": "python",
   "nbconvert_exporter": "python",
   "pygments_lexer": "ipython3",
   "version": "3.11.13"
  }
 },
 "nbformat": 4,
 "nbformat_minor": 5
}
