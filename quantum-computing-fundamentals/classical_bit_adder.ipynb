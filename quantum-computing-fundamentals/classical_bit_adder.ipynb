{
 "cells": [
  {
   "cell_type": "code",
   "execution_count": 31,
   "id": "0e8b16ab-8c39-402b-89d0-038afce72991",
   "metadata": {},
   "outputs": [],
   "source": [
    "# import all necessary libraries\n",
    "from qiskit import QuantumCircuit\n",
    "from qiskit_aer import AerSimulator"
   ]
  },
  {
   "cell_type": "code",
   "execution_count": 32,
   "id": "b86d609a-647c-4718-b8c7-65b370e3cf9e",
   "metadata": {},
   "outputs": [],
   "source": [
    "# Create quantum circuit for 2-bit binary adder\n",
    "# We need 4 qubits: 2 input qubits (A, B) + 1 sum qubit + 1 carry qubit\n",
    "circuit = QuantumCircuit(4, 2)"
   ]
  },
  {
   "cell_type": "code",
   "execution_count": 33,
   "id": "05e32ae1-8ea9-4d2a-bb43-b524e36944c0",
   "metadata": {},
   "outputs": [
    {
     "data": {
      "text/plain": [
       "CircuitInstruction(operation=Instruction(name='barrier', num_qubits=4, num_clbits=0, params=[]), qubits=(<Qubit register=(4, \"q\"), index=0>, <Qubit register=(4, \"q\"), index=1>, <Qubit register=(4, \"q\"), index=2>, <Qubit register=(4, \"q\"), index=3>), clbits=())"
      ]
     },
     "execution_count": 33,
     "metadata": {},
     "output_type": "execute_result"
    }
   ],
   "source": [
    "# Set input values (example: A=1, B=1)\n",
    "# Comment/uncomment these X gates to test different inputs\n",
    "circuit.x(0)  # Set A = 1\n",
    "circuit.x(1)  # Set B = 1\n",
    "circuit.barrier()"
   ]
  },
  {
   "cell_type": "code",
   "execution_count": 34,
   "id": "76ab684e-9463-4655-9435-078d37ff0274",
   "metadata": {},
   "outputs": [
    {
     "data": {
      "text/plain": [
       "CircuitInstruction(operation=Instruction(name='barrier', num_qubits=4, num_clbits=0, params=[]), qubits=(<Qubit register=(4, \"q\"), index=0>, <Qubit register=(4, \"q\"), index=1>, <Qubit register=(4, \"q\"), index=2>, <Qubit register=(4, \"q\"), index=3>), clbits=())"
      ]
     },
     "execution_count": 34,
     "metadata": {},
     "output_type": "execute_result"
    }
   ],
   "source": [
    "# Quantum XOR for sum: sum = A ⊕ B\n",
    "# The sum bit is 1 when exactly one input is 1\n",
    "circuit.cx(0, 2)  # If A=1, flip sum\n",
    "circuit.cx(1, 2)  # If B=1, flip sum\n",
    "\n",
    "# Quantum AND for carry: carry = A ∧ B  \n",
    "# The carry bit is 1 when both inputs are 1\n",
    "circuit.ccx(0, 1, 3)  # If A=1 AND B=1, set carry=1\n",
    "circuit.barrier()"
   ]
  },
  {
   "cell_type": "code",
   "execution_count": 35,
   "id": "566c4251-2b20-4fa8-9d76-65c491ba9403",
   "metadata": {},
   "outputs": [
    {
     "name": "stdout",
     "output_type": "stream",
     "text": [
      "     ┌───┐ ░                 ░       \n",
      "q_0: ┤ X ├─░───■─────────■───░───────\n",
      "     ├───┤ ░   │         │   ░       \n",
      "q_1: ┤ X ├─░───┼────■────■───░───────\n",
      "     └───┘ ░ ┌─┴─┐┌─┴─┐  │   ░ ┌─┐   \n",
      "q_2: ──────░─┤ X ├┤ X ├──┼───░─┤M├───\n",
      "           ░ └───┘└───┘┌─┴─┐ ░ └╥┘┌─┐\n",
      "q_3: ──────░───────────┤ X ├─░──╫─┤M├\n",
      "           ░           └───┘ ░  ║ └╥┘\n",
      "c: 2/═══════════════════════════╩══╩═\n",
      "                                0  1 \n"
     ]
    }
   ],
   "source": [
    "# Measure all qubits\n",
    "circuit.measure(2, 0) # Measure SUM\n",
    "circuit.measure(3, 1) # Measure CARRY-OUT\n",
    "\n",
    "\n",
    "# Print circuit\n",
    "print(circuit.draw())"
   ]
  },
  {
   "cell_type": "code",
   "execution_count": 36,
   "id": "f7b91cb5-593b-4590-95f2-2ee3339bf8e6",
   "metadata": {},
   "outputs": [
    {
     "name": "stdout",
     "output_type": "stream",
     "text": [
      "\n",
      "Measurement results:\n",
      "{'10': 1024}\n"
     ]
    }
   ],
   "source": [
    "# Simulate the circuit\n",
    "simulator = AerSimulator()\n",
    "job = simulator.run(circuit, shots=1024)\n",
    "result = job.result()\n",
    "counts = result.get_counts()\n",
    "\n",
    "print(\"\\nMeasurement results:\")\n",
    "print(counts)"
   ]
  }
 ],
 "metadata": {
  "kernelspec": {
   "display_name": "Python (Main)",
   "language": "python",
   "name": "python-env"
  },
  "language_info": {
   "codemirror_mode": {
    "name": "ipython",
    "version": 3
   },
   "file_extension": ".py",
   "mimetype": "text/x-python",
   "name": "python",
   "nbconvert_exporter": "python",
   "pygments_lexer": "ipython3",
   "version": "3.11.13"
  }
 },
 "nbformat": 4,
 "nbformat_minor": 5
}
